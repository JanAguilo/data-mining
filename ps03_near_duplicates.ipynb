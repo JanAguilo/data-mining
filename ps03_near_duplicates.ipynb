{
 "cells": [
  {
   "cell_type": "markdown",
   "metadata": {},
   "source": [
    "# Practice Session 03: Find near-duplicates using shingling"
   ]
  },
  {
   "cell_type": "markdown",
   "metadata": {},
   "source": [
    "Author: <font color=\"blue\">Jan Aguiló Plana</font>\n",
    "\n",
    "E-mail: <font color=\"blue\">jan.aguilo01@estudiant.upf.edu</font>\n",
    "\n",
    "Date: <font color=\"blue\">08/10/2024</font>"
   ]
  },
  {
   "cell_type": "code",
   "execution_count": 77,
   "metadata": {},
   "outputs": [],
   "source": [
    "import io\n",
    "import json\n",
    "import gzip\n",
    "import re\n",
    "import random\n",
    "import numpy as np\n",
    "import matplotlib.pyplot as plt\n",
    "from timeit import default_timer as timer\n",
    "\n",
    "import datetime"
   ]
  },
  {
   "cell_type": "code",
   "execution_count": 78,
   "metadata": {},
   "outputs": [
    {
     "name": "stdout",
     "output_type": "stream",
     "text": [
      "Read 1001 documents\n"
     ]
    }
   ],
   "source": [
    "# KEEP AS-IS\n",
    "\n",
    "# Input file\n",
    "INPUT_FILENAME = \"data/covid-lockdown-catalonia/CovidLockdownCatalonia.json.gz\"\n",
    "\n",
    "# Array for storing messages\n",
    "messages = []\n",
    "\n",
    "# IMPORTANT:\n",
    "# 1. Set this to 1000 during development\n",
    "# 2. Set this to 10000 once you have completed the development, and answer part 5 with 10000\n",
    "# 3. Set this back to 1000 for delivering your code\n",
    "MAX_MESSAGES = 1001\n",
    "\n",
    "with gzip.open(INPUT_FILENAME, \"rt\", encoding=\"utf-8\") as input_file:\n",
    "    \n",
    "    messages_read = 0\n",
    "    for line in input_file:\n",
    "            \n",
    "        # Read message\n",
    "        tweet = json.loads(line)\n",
    "\n",
    "        # Keep only messages in Catalan\n",
    "        if tweet[\"lang\"] == \"ca\":\n",
    "            \n",
    "            messages_read += 1\n",
    "            \n",
    "            if messages_read <= MAX_MESSAGES:\n",
    "                author = tweet[\"user\"][\"screen_name\"]\n",
    "                message = tweet[\"full_text\"]\n",
    "                messages.append(message)\n",
    "\n",
    "print(\"Read %d documents\" % len(messages))"
   ]
  },
  {
   "cell_type": "markdown",
   "metadata": {},
   "source": [
    "# 1. Auxiliary functions"
   ]
  },
  {
   "cell_type": "markdown",
   "metadata": {},
   "source": [
    "<font size=\"+1\" color=\"red\">Replace this cell with your code for function \"jaccard_similarity\"</font>"
   ]
  },
  {
   "cell_type": "code",
   "execution_count": 79,
   "metadata": {},
   "outputs": [],
   "source": [
    "def jaccard_similarity(list1, list2):\n",
    "    set1 = set(list1)\n",
    "    set2 = set(list2)\n",
    "    inter = set1.intersection(set2)\n",
    "    union = set1.union(set2)\n",
    "    if len(union) == 0:\n",
    "        return 0.0\n",
    "    jacc = len(inter)/len(union)\n",
    "    return jacc"
   ]
  },
  {
   "cell_type": "markdown",
   "metadata": {},
   "source": [
    "<font size=\"+1\" color=\"red\">Replace this cell with your code testing \"jaccard_similarity\"</font>"
   ]
  },
  {
   "cell_type": "code",
   "execution_count": 80,
   "metadata": {},
   "outputs": [
    {
     "name": "stdout",
     "output_type": "stream",
     "text": [
      "0.5\n",
      "0.75\n",
      "0.0\n",
      "1.0\n"
     ]
    }
   ],
   "source": [
    "a1 = ['Hello', 'Bye', 'Jan']\n",
    "a2 = ['Hello', 'Bye', 'Pol']\n",
    "a3 = ['Hello', 'Bye', 'Jan', 'Aniol']\n",
    "a4 = []\n",
    "a5 = []\n",
    "a6 = ['Hello', 'Bye', 'Jan']\n",
    "print(jaccard_similarity(a1,a2))\n",
    "print(jaccard_similarity(a1,a3))\n",
    "print(jaccard_similarity(a4,a5))\n",
    "print(jaccard_similarity(a1,a6))"
   ]
  },
  {
   "cell_type": "markdown",
   "metadata": {},
   "source": [
    "<font size=\"+1\" color=\"red\">Replace this cell with your code for function \"clean\"</font>"
   ]
  },
  {
   "cell_type": "code",
   "execution_count": 81,
   "metadata": {},
   "outputs": [],
   "source": [
    "def clean(text):\n",
    "    # 1\n",
    "    text = re.sub('RT','', text)\n",
    "    \n",
    "    #2\n",
    "    text = text.lower()\n",
    "    \n",
    "    #3\n",
    "    text = re.sub('ñ', 'n', text)\n",
    "    text = re.sub('Ñ', 'n', text)\n",
    "    text = re.sub('ó', 'o', text)\n",
    "    text = re.sub('ò', 'o', text)\n",
    "    text = re.sub('à', 'a', text)\n",
    "    text = re.sub('á', 'a', text)\n",
    "    text = re.sub('ú', 'u', text)\n",
    "    text = re.sub('l·l', 'll', text)\n",
    "    \n",
    "    #4\n",
    "    text = re.sub(r'http\\S+|https\\S+', '', text)\n",
    "\n",
    "    #5\n",
    "    text = text.strip()\n",
    "    \n",
    "    #6\n",
    "    text = re.sub(r'[^a-z0-9\\s]', '', text)\n",
    "    \n",
    "    #7\n",
    "    text = re.sub(r'\\s+', ' ', text)\n",
    "\n",
    "    return text"
   ]
  },
  {
   "cell_type": "markdown",
   "metadata": {},
   "source": [
    "<font size=\"+1\" color=\"red\">Replace this cell with your code testing function \"clean\"</font>"
   ]
  },
  {
   "cell_type": "code",
   "execution_count": 82,
   "metadata": {},
   "outputs": [
    {
     "name": "stdout",
     "output_type": "stream",
     "text": [
      "Original: RT This is a test tweet! Check https://test-url.com\n",
      "Cleaned: this is a test tweet check\n",
      "\n",
      "Original: ¡Hola, cómo estás! Visit http://website.com\n",
      "Cleaned: hola como estas visit\n",
      "\n",
      "Original: RT: Привет! Как дела? http://russian-site.com\n",
      "Cleaned:  \n",
      "\n",
      "Original: Ñandú l·l jumping over á rocks.\n",
      "Cleaned: nandu ll jumping over a rocks\n",
      "\n",
      "Original: Test   with    multiple     spaces!\n",
      "Cleaned: test with multiple spaces\n",
      "\n"
     ]
    }
   ],
   "source": [
    "test_texts = [\"RT This is a test tweet! Check https://test-url.com\",  \n",
    "    \"¡Hola, cómo estás! Visit http://website.com\",  \n",
    "    \"RT: Привет! Как дела? http://russian-site.com\",  \n",
    "    \"Ñandú l·l jumping over á rocks.\", \n",
    "    \"Test   with    multiple     spaces!\"]\n",
    "\n",
    "cleaned_texts = [clean(text) for text in test_texts]\n",
    "for i, cleaned in enumerate(cleaned_texts, 1):\n",
    "    print(f\"Original: {test_texts[i-1]}\")\n",
    "    print(f\"Cleaned: {cleaned}\\n\")"
   ]
  },
  {
   "cell_type": "markdown",
   "metadata": {},
   "source": [
    "# 2. Implement an n-gram extractor"
   ]
  },
  {
   "cell_type": "markdown",
   "metadata": {},
   "source": [
    "<font size=\"+1\" color=\"red\">Replace this cell with your code implementing function \"ngrams(text,size)\"</font>"
   ]
  },
  {
   "cell_type": "code",
   "execution_count": 83,
   "metadata": {},
   "outputs": [],
   "source": [
    "MIN_TOKEN_LENGTH = 3\n",
    "\n",
    "def ngrams(text, size):\n",
    "    tokens = clean(text).split()\n",
    "    ngrams = []\n",
    "    \n",
    "    # We first iterate through the tokens and remove the ones that doesn't satisfy the minimum length of characters\n",
    "    filtered = []\n",
    "    for token in tokens:\n",
    "        if len(token) >= MIN_TOKEN_LENGTH:\n",
    "            filtered.append(token)\n",
    "    \n",
    "    # We iterate through the length of the tokens list (but substracting size + 1 elements so that the bounds match)\n",
    "    for i in range(len(filtered) - size + 1):\n",
    "        \n",
    "        # We create a current array to store each of the corresponding tokens\n",
    "        current = []\n",
    "        \n",
    "        # For each index, we iterate through the \"size\" elements (3 in this case) of its right and add them to the current array\n",
    "        for elem in range(i, size + i):\n",
    "            current.append(filtered[elem])\n",
    "        current = ' '.join(current)\n",
    "        ngrams.append(current)\n",
    "\n",
    "    \n",
    "    return ngrams\n"
   ]
  },
  {
   "cell_type": "markdown",
   "metadata": {},
   "source": [
    "<font size=\"+1\" color=\"red\">Replace this cell with your code testing function \"ngrams\"</font>"
   ]
  },
  {
   "cell_type": "code",
   "execution_count": 84,
   "metadata": {},
   "outputs": [
    {
     "name": "stdout",
     "output_type": "stream",
     "text": [
      "Clam per la suspensió dels desnonaments en plena crisi pel coronavirus https://t.co/0g1AtSELwl\n",
      "['clam per suspensio', 'per suspensio dels', 'suspensio dels desnonaments', 'dels desnonaments plena', 'desnonaments plena crisi', 'plena crisi pel', 'crisi pel coronavirus']\n"
     ]
    }
   ],
   "source": [
    "print(messages[990])\n",
    "print(ngrams(messages[990], 3))"
   ]
  },
  {
   "cell_type": "markdown",
   "metadata": {},
   "source": [
    "# 3. Estimation of brute force all-pairs method"
   ]
  },
  {
   "cell_type": "code",
   "execution_count": 85,
   "metadata": {},
   "outputs": [],
   "source": [
    "# LEAVE AS-IS\n",
    "\n",
    "def time_brute_force_similarities(messages, limit, ngram_size):\n",
    "    if limit > len(messages):\n",
    "        raise ValueError(\"Limit should be less than or equal than the number of messages\")\n",
    "        \n",
    "    # Start a timer\n",
    "    start = timer()\n",
    "\n",
    "    # Iterate through document identifiers\n",
    "    for docid1 in range(np.min([len(messages), limit])):\n",
    "\n",
    "        # Clean document 1 and extract ngrams\n",
    "        doc1 = clean(messages[docid1])\n",
    "        ngrams1 = ngrams(doc1, ngram_size)\n",
    "\n",
    "        # Iterate through document identifiers larger than doc2\n",
    "        for docid2 in range(docid1+1, np.min([len(messages), limit])):\n",
    "                         \n",
    "            # Clean document 2 and extract ngrams\n",
    "            doc2 = clean(messages[docid2])\n",
    "            ngrams2 = ngrams(doc2, ngram_size)\n",
    "\n",
    "            # Compute similarity\n",
    "            similarity = jaccard_similarity(ngrams1, ngrams2)\n",
    "\n",
    "    end = timer()\n",
    "    return(end - start)"
   ]
  },
  {
   "cell_type": "markdown",
   "metadata": {},
   "source": [
    "<font size=\"+1\" color=\"red\">Replace this cell with your code for generating the requested plot. Remember to add a title and label for the x and y axis.</font>"
   ]
  },
  {
   "cell_type": "code",
   "execution_count": 86,
   "metadata": {},
   "outputs": [
    {
     "data": {
      "image/png": "[encoded data removed]",
      "text/plain": [
       "<Figure size 640x480 with 1 Axes>"
      ]
     },
     "metadata": {},
     "output_type": "display_data"
    }
   ],
   "source": [
    "x_values = range(1, 1002, 200)\n",
    "\n",
    "times = []\n",
    "size = 5\n",
    "\n",
    "for limit in x_values:\n",
    "    elapsed_time = time_brute_force_similarities(messages, limit, size)\n",
    "    times.append(elapsed_time)\n",
    "\n",
    "plt.plot(x_values, times, marker='o')\n",
    "plt.title('Time to Compare All Pairs of Messages')\n",
    "plt.xlabel('Number of Messages')\n",
    "plt.ylabel('Time (seconds)')\n",
    "plt.show()"
   ]
  },
  {
   "cell_type": "markdown",
   "metadata": {},
   "source": [
    "<font size=\"+1\" color=\"red\">Replace this cell with (1) a brief commmentary about what you see in this plot, and (2) your estimate for how long it would take to run the brute force similarity computations for the entire input matrix. Express your estimation in hours, minutes, and seconds. Justify precisely your calculations.</font>"
   ]
  },
  {
   "cell_type": "markdown",
   "metadata": {},
   "source": [
    "(1) We observe that the time it takes to compute brute-force similarities increases non-linearly as the number of messages increases. This is expected, as the brute force method involves comparing every pair of messages, which leads to a quadratic growth in the number of comparisons. This is expected because the number of comparisons is proportional to n(n-1)/2 (all the comparisons), where n is the number of messages.\n",
    "\n",
    "(2) Let's take for instance the time it takes to run for 1000 messages, which is 40 approximately (let's denote it T(1000) = 40s). Then we calculate the number of comparisons for 1000 messages which will be from the formula in (1) and denote it N(1000) = 1000*999/2 = 499500. Now we divide T(1000) by N(1000) to know the average time it takes for 1 comparison: T(1) = 40/499500 = 0.00008008. Now we multiply it by the number of comparisons that it would take for the entire matrix (assuming we have 35500 messages): T(1) * N(35500) = 0.00008008* 35500*35499/2 = 50459s. That is, 14 hours, 0 minutes, and 59 seconds."
   ]
  },
  {
   "cell_type": "markdown",
   "metadata": {},
   "source": [
    "# 4. Computing the doc-ngram matrix"
   ]
  },
  {
   "cell_type": "markdown",
   "metadata": {},
   "source": [
    "## 4.1 Create list of all ngrams"
   ]
  },
  {
   "cell_type": "markdown",
   "metadata": {},
   "source": [
    "<font size=\"+1\" color=\"red\">Replace this cell with your code for creating the ngram_to_index dictionary.</font>"
   ]
  },
  {
   "cell_type": "code",
   "execution_count": 87,
   "metadata": {},
   "outputs": [
    {
     "name": "stdout",
     "output_type": "stream",
     "text": [
      "There are 8014 distinct ngrams in the 1001 documents\n"
     ]
    }
   ],
   "source": [
    "NGRAM_SIZE = 4\n",
    "\n",
    "ngram_to_index = {}\n",
    "index_to_ngram = {}\n",
    "next_index = 0\n",
    "\n",
    "for message in messages:\n",
    "    all_ngrams = ngrams(message, NGRAM_SIZE)\n",
    "    for ngram in all_ngrams:\n",
    "        \n",
    "        # If the ngram is not in the dictionary, we upload it \n",
    "        if ngram not in ngram_to_index:\n",
    "            ngram_to_index[ngram] = next_index\n",
    "            index_to_ngram[next_index] = ngram\n",
    "            next_index += 1\n",
    "\n",
    "num_distinct_ngrams = next_index\n",
    "\n",
    "print(\"There are %d distinct ngrams in the %d documents\" % (num_distinct_ngrams, len(messages)))"
   ]
  },
  {
   "cell_type": "markdown",
   "metadata": {},
   "source": [
    "<font size=\"+1\" color=\"red\">Replace this cell with your code for testing the ngram_to_index structure.</font>"
   ]
  },
  {
   "cell_type": "code",
   "execution_count": 88,
   "metadata": {},
   "outputs": [
    {
     "name": "stdout",
     "output_type": "stream",
     "text": [
      "Ngram: 'els restaurants han reduir' -> Index: 14\n",
      "Index: 14 -> Retrieved Ngram: 'els restaurants han reduir'\n",
      "Ngram: 'supera fins tot mateix' -> Index: 36\n",
      "Index: 36 -> Retrieved Ngram: 'supera fins tot mateix'\n"
     ]
    }
   ],
   "source": [
    "strings = [\"els restaurants han reduir\", \"supera fins tot mateix\"]\n",
    "\n",
    "for string in strings:\n",
    "    all_ngrams = ngrams(string, NGRAM_SIZE)\n",
    "    \n",
    "    for ngram in all_ngrams:\n",
    "        if ngram in ngram_to_index:\n",
    "            \n",
    "            index = ngram_to_index[ngram]\n",
    "            print(f\"Ngram: '{ngram}' -> Index: {index}\")\n",
    "            \n",
    "            retrieved_ngram = index_to_ngram[index]\n",
    "            print(f\"Index: {index} -> Retrieved Ngram: '{retrieved_ngram}'\")\n",
    "            \n",
    "        else:\n",
    "            print(f\"Ngram: '{ngram}' not found in the dictionary.\")"
   ]
  },
  {
   "cell_type": "markdown",
   "metadata": {},
   "source": [
    "## 2.2 Create table ngrams x documents"
   ]
  },
  {
   "cell_type": "code",
   "execution_count": 89,
   "metadata": {},
   "outputs": [
    {
     "name": "stdout",
     "output_type": "stream",
     "text": [
      "Matrix dimensions: 8014 rows (distinct shingles) x 1001 columns (distinct documents)\n"
     ]
    }
   ],
   "source": [
    "# LEAVE AS-IS\n",
    "\n",
    "# Create dense matrix in which every cell contains the value \"False\"\n",
    "M_ngram_doc = np.full((num_distinct_ngrams, len(messages)), False)\n",
    "\n",
    "# Print the number of rows and columns of this matrix\n",
    "# numpy.matrix.shape is a tuple, shape[0] is the number of rows, shape[1] the number of columns\n",
    "print(\"Matrix dimensions: %d rows (distinct shingles) x %d columns (distinct documents)\" % M_ngram_doc.shape)"
   ]
  },
  {
   "cell_type": "markdown",
   "metadata": {},
   "source": [
    "<font size=\"+1\" color=\"red\">Replace this cell with your code for filling the M_ngram_doc matrix.</font>"
   ]
  },
  {
   "cell_type": "code",
   "execution_count": 90,
   "metadata": {},
   "outputs": [],
   "source": [
    "for docid in range(len(messages)):\n",
    "    message = messages[docid]\n",
    "    all_ngrams = ngrams(message, NGRAM_SIZE)\n",
    "    for ngram in all_ngrams:\n",
    "        \n",
    "        # Check if the ngram is already in the dictionary\n",
    "        if ngram in ngram_to_index:\n",
    "            \n",
    "            #Take the row of the corresponding ngram\n",
    "            row = ngram_to_index[ngram]\n",
    "            M_ngram_doc[row][docid] = True\n",
    "        else:\n",
    "            M_ngram_doc[row][docid] = False"
   ]
  },
  {
   "cell_type": "markdown",
   "metadata": {},
   "source": [
    "<font size=\"+1\" color=\"red\">Replace this cell with your code for printing the density of the M_ngram_doc matrix as a percentage. Use 4 decimals.</font>"
   ]
  },
  {
   "cell_type": "code",
   "execution_count": 91,
   "metadata": {},
   "outputs": [
    {
     "name": "stdout",
     "output_type": "stream",
     "text": [
      "The density of the M_ngram_doc matrix is: 0.1393 %\n"
     ]
    }
   ],
   "source": [
    "non_zero = np.count_nonzero(M_ngram_doc)\n",
    "num_cells = M_ngram_doc.size\n",
    "percentage = (non_zero/num_cells)*100\n",
    "print(f'The density of the M_ngram_doc matrix is: {round(percentage, 4)} %')"
   ]
  },
  {
   "cell_type": "markdown",
   "metadata": {},
   "source": [
    "<font size=\"+1\" color=\"red\">Replace this cell with your code for printing rows 9602 and 941 of the M_ngram_doc matrix.</font>"
   ]
  },
  {
   "cell_type": "code",
   "execution_count": 92,
   "metadata": {},
   "outputs": [
    {
     "name": "stdout",
     "output_type": "stream",
     "text": [
      "Positions of non-zeros in column of docid 941 of M_ngram_doc\n",
      "\n",
      "Clean message:\n",
      "hospiolot usem de forma responsable els recursos sanitaris 061 urgncies per coronavirus i sanitaries 012 consultes general\n",
      "\n",
      "Non-zeros in corresponding rows:\n",
      "['1052 (usem forma responsable els)', '1053 (forma responsable els recursos)', '1054 (responsable els recursos sanitaris)', '1055 (els recursos sanitaris 061)', '1056 (recursos sanitaris 061 urgncies)', '1057 (sanitaris 061 urgncies per)', '1058 (061 urgncies per coronavirus)', '1059 (urgncies per coronavirus sanitaries)', '1060 (per coronavirus sanitaries 012)', '1061 (coronavirus sanitaries 012 consultes)', '7735 (hospiolot usem forma responsable)', '7736 (sanitaries 012 consultes general)']\n",
      "Positions of non-zeros in column of docid 16 of M_ngram_doc\n",
      "\n",
      "Clean message:\n",
      "emergenciescat es demana a la ciutadania limitar al maxim i si es pot evitar desplaaments de cap de setmana tot el que sigui ma\n",
      "\n",
      "Non-zeros in corresponding rows:\n",
      "['175 (emergenciescat demana ciutadania limitar)', '176 (demana ciutadania limitar maxim)', '177 (ciutadania limitar maxim pot)', '178 (limitar maxim pot evitar)', '179 (maxim pot evitar desplaaments)', '180 (pot evitar desplaaments cap)', '181 (evitar desplaaments cap setmana)', '182 (desplaaments cap setmana tot)', '183 (cap setmana tot que)', '184 (setmana tot que sigui)']\n"
     ]
    }
   ],
   "source": [
    "def print_non_zero_positions(docid):\n",
    "    \n",
    "    message = messages[docid]\n",
    "    cleaned_message = clean(message)\n",
    "    \n",
    "    # We find using the nonzero function the number of 0\n",
    "    non_zero_rows = np.nonzero(M_ngram_doc[:, docid])[0]\n",
    "    \n",
    "    print(f\"Positions of non-zeros in column of docid {docid} of M_ngram_doc\\n\")\n",
    "    print(f\"Clean message:\\n{cleaned_message}\\n\")\n",
    "    print(\"Non-zeros in corresponding rows:\")\n",
    "    \n",
    "    non_zero_ngrams = [f\"{row} ({index_to_ngram[row]})\" for row in non_zero_rows]\n",
    "    print(non_zero_ngrams)\n",
    "\n",
    "# We try with 941 and 16 (the example) because 9602 doesn't exist\n",
    "print_non_zero_positions(941)\n",
    "print_non_zero_positions(16)"
   ]
  },
  {
   "cell_type": "markdown",
   "metadata": {},
   "source": [
    "# 3. Implement a permutation generator"
   ]
  },
  {
   "cell_type": "markdown",
   "metadata": {},
   "source": [
    "<font size=\"+1\" color=\"red\">Replace this cell with your code for \"random_permutation\"</font>"
   ]
  },
  {
   "cell_type": "code",
   "execution_count": 93,
   "metadata": {},
   "outputs": [
    {
     "name": "stdout",
     "output_type": "stream",
     "text": [
      "[5, 6, 4, 19, 10, 9, 14, 2, 15, 12, 18, 17, 13, 1, 0, 8, 3, 11, 7, 16]\n"
     ]
    }
   ],
   "source": [
    "def random_permutation(k):\n",
    "    # We create a list of integers from 0 to k-1\n",
    "    array = list(range(k))\n",
    "\n",
    "    # We generate a random permutation of the array using the function shuffle\n",
    "    random.shuffle(array)\n",
    "    \n",
    "    return array\n",
    "print(random_permutation(20))    "
   ]
  },
  {
   "cell_type": "code",
   "execution_count": 94,
   "metadata": {},
   "outputs": [
    {
     "name": "stdout",
     "output_type": "stream",
     "text": [
      "Test one permutation:\n",
      "['5 (test5)', '3 (test3)', '4 (test4)', '2 (test2)', '1 (test1)']\n",
      "['5 (epsilon)', '3 (beta)', '4 (delta)', '2 (gamma)', '1 (alpha)']\n",
      "\n",
      "Test another permutation\n",
      "['4 (test4)', '2 (test2)', '1 (test1)', '5 (test5)', '3 (test3)']\n",
      "['4 (delta)', '2 (gamma)', '1 (alpha)', '5 (epsilon)', '3 (beta)']\n"
     ]
    }
   ],
   "source": [
    "# LEAVE AS-IS\n",
    "\n",
    "# Permute a list according to a permutation\n",
    "def permuter(original_list, permutation):\n",
    "    permuted_list = []\n",
    "    for index in permutation:\n",
    "        permuted_list.append(original_list[index])\n",
    "    return permuted_list\n",
    "\n",
    "# Code for testing permutations\n",
    "original_list_1 = [\"1 (test1)\", \"2 (test2)\", \"3 (test3)\", \"4 (test4)\", \"5 (test5)\"]\n",
    "original_list_2 = [\"1 (alpha)\", \"2 (gamma)\", \"3 (beta)\", \"4 (delta)\", \"5 (epsilon)\"]\n",
    "\n",
    "print(\"Test one permutation:\")\n",
    "permutation_1 = random_permutation(5)\n",
    "print(permuter(original_list_1, permutation_1))\n",
    "print(permuter(original_list_2, permutation_1))\n",
    "\n",
    "print()\n",
    "\n",
    "print(\"Test another permutation\")\n",
    "permutation_2 = random_permutation(5)\n",
    "print(permuter(original_list_1, permutation_2))\n",
    "print(permuter(original_list_2, permutation_2))"
   ]
  },
  {
   "cell_type": "markdown",
   "metadata": {},
   "source": [
    "# 4. Compute the signature of each document"
   ]
  },
  {
   "cell_type": "code",
   "execution_count": 95,
   "metadata": {},
   "outputs": [
    {
     "name": "stdout",
     "output_type": "stream",
     "text": [
      "Permutation 0: 4901, 7674, 742, 4867, ...\n",
      "Permutation 1: 6171, 4550, 5862, 947, ...\n",
      "Permutation 2: 6370, 7595, 1900, 6675, ...\n",
      "Permutation 3: 7346, 4282, 6615, 3138, ...\n",
      "Permutation 4: 2932, 7505, 6602, 1673, ...\n"
     ]
    }
   ],
   "source": [
    "# Leave this code as-is\n",
    "\n",
    "NUM_PERMUTATIONS = 5\n",
    "\n",
    "permutations = []\n",
    "\n",
    "# Create the permutations\n",
    "for i in range(NUM_PERMUTATIONS):\n",
    "    permutation = random_permutation(num_distinct_ngrams)\n",
    "    permutations.append(random_permutation(num_distinct_ngrams))\n",
    "    \n",
    "# Visualize the permutations by printing their first 4 elements\n",
    "for i in range(len(permutations)):\n",
    "    permutation = permutations[i]\n",
    "    print(\"Permutation %d: %d, %d, %d, %d, ...\" % (i,\n",
    "                permutation[0], permutation[1], permutation[2], permutation[3] ))"
   ]
  },
  {
   "cell_type": "code",
   "execution_count": 96,
   "metadata": {},
   "outputs": [],
   "source": [
    "# LEAVE AS-IS\n",
    "\n",
    "# Find the first ngram in a document, according to a permutation\n",
    "def find_first_one(docid, permutation):\n",
    "    for shingle_id in permutation:\n",
    "        if M_ngram_doc[shingle_id, docid] == True:\n",
    "            return shingle_id\n",
    "    return -1"
   ]
  },
  {
   "cell_type": "markdown",
   "metadata": {},
   "source": [
    "<font size=\"+1\" color=\"red\">Replace this cell with your code for creating M_signature_doc</font>"
   ]
  },
  {
   "cell_type": "code",
   "execution_count": 97,
   "metadata": {},
   "outputs": [
    {
     "name": "stdout",
     "output_type": "stream",
     "text": [
      "Creating signatures for permutation 1/5\n",
      "- Scanning document 0 of 1001\n",
      "- Scanning document 1000 of 1001\n",
      "Creating signatures for permutation 2/5\n",
      "- Scanning document 0 of 1001\n",
      "- Scanning document 1000 of 1001\n",
      "Creating signatures for permutation 3/5\n",
      "- Scanning document 0 of 1001\n",
      "- Scanning document 1000 of 1001\n",
      "Creating signatures for permutation 4/5\n",
      "- Scanning document 0 of 1001\n",
      "- Scanning document 1000 of 1001\n",
      "Creating signatures for permutation 5/5\n",
      "- Scanning document 0 of 1001\n",
      "- Scanning document 1000 of 1001\n"
     ]
    }
   ],
   "source": [
    "M_signature_doc = np.full((NUM_PERMUTATIONS, len(messages)), np.nan)\n",
    "\n",
    "# Create permutations\n",
    "for permutation_num in range(NUM_PERMUTATIONS):\n",
    "    print(\"Creating signatures for permutation %d/%d\" % (permutation_num+1, NUM_PERMUTATIONS))\n",
    "    permutation = permutations[permutation_num]\n",
    "    for docid in range(len(messages)):\n",
    "        if docid % 1000 == 0:\n",
    "            print(\"- Scanning document %d of %d\" % (docid, len(messages)))\n",
    "        \n",
    "        # We compute the first ngram using the function above\n",
    "        first_ngram = find_first_one(docid, permutation)\n",
    "        \n",
    "        # Store the result in the signature matrix\n",
    "        M_signature_doc[permutation_num, docid] = first_ngram"
   ]
  },
  {
   "cell_type": "code",
   "execution_count": 98,
   "metadata": {},
   "outputs": [
    {
     "name": "stdout",
     "output_type": "stream",
     "text": [
      "Document #21\n",
      "Message       : El problema és económic... ja no és només que primi lo económic a lo personal, és que fins i tot en això el @govern s'equivoca, doncs al final la factura que s'haurà de pagar serà més gran.... ja és més gran del que hauria sigut de fer les coses bé i a temps. https://t.co/jFXHAMZHO0\n",
      "Clean message : el problema s economic ja no s noms que primi lo economic a lo personal s que fins i tot en aixo el govern sequivoca doncs al final la factura que shaura de pagar sera ms gran ja s ms gran del que hauria sigut de fer les coses b i a temps\n",
      "Ngrams        : [228, 229, 230, 231, 232, 233, 234, 235, 236, 237, 238, 239, 240, 241, 242, 243, 244, 245, 246, 247, 248, 249, 250, 251, 252, 253, 254]\n",
      "Signature     : [244.0, 233.0, 230.0, 232.0, 248.0]\n",
      "\n",
      "Document #24\n",
      "Message       : RT @QuimTorraiPla: Seguiu les recomanacions: eviteu qualsevol desplaçament al màxim\n",
      "Clean message : quimtorraipla seguiu les recomanacions eviteu qualsevol desplaament al maxim\n",
      "Ngrams        : [274, 275, 276, 277, 278]\n",
      "Signature     : [275.0, 276.0, 274.0, 274.0, 277.0]\n"
     ]
    }
   ],
   "source": [
    "# Leave this code as-is\n",
    "\n",
    "def extract_ngrams(docid):\n",
    "    return [x for x in range(num_distinct_ngrams) if M_ngram_doc[x, docid] == True]\n",
    "\n",
    "def extract_signature(docid):\n",
    "    return [M_signature_doc[x, docid] for x in range(NUM_PERMUTATIONS)]\n",
    "\n",
    "def print_sig(messages, M_ngram_doc, M_signature_doc, i):\n",
    "    print(\"Document #%d\" % i)\n",
    "    print(\"Message       : %s\" % messages[i])\n",
    "    print(\"Clean message : %s\" % clean(messages[i]))\n",
    "    print(\"Ngrams        : %s\" % extract_ngrams(i))\n",
    "    print(\"Signature     : %s\" % extract_signature(i))\n",
    "\n",
    "# Print two messages and their signatures\n",
    "\n",
    "print_sig(messages, M_ngram_doc, M_signature_doc, 21 )\n",
    "print()\n",
    "print_sig(messages, M_ngram_doc, M_signature_doc, 24 )"
   ]
  },
  {
   "cell_type": "markdown",
   "metadata": {},
   "source": [
    "# 5. Compare all pairs of signatures"
   ]
  },
  {
   "cell_type": "markdown",
   "metadata": {},
   "source": [
    "<font size=\"+1\" color=\"red\">Replace this cell with your code for comparing all signatures; print all documents that have at least X signature matches, considering both full matches and partial matches. X should be 0.5% of the  number of documents.</font>"
   ]
  },
  {
   "cell_type": "code",
   "execution_count": 99,
   "metadata": {},
   "outputs": [
    {
     "name": "stdout",
     "output_type": "stream",
     "text": [
      "0/1001 documents scanned\n",
      "Document 16 has 6 full matches and 0 partial matches\n",
      "Document 22 has 7 full matches and 0 partial matches\n",
      "Document 32 has 5 full matches and 5 partial matches\n",
      "Document 42 has 2 full matches and 6 partial matches\n",
      "Document 83 has 16 full matches and 0 partial matches\n",
      "Document 95 has 9 full matches and 0 partial matches\n",
      "Document 104 has 7 full matches and 0 partial matches\n",
      "Document 166 has 13 full matches and 0 partial matches\n",
      "Document 175 has 6 full matches and 0 partial matches\n",
      "Document 249 has 8 full matches and 0 partial matches\n",
      "Document 328 has 7 full matches and 0 partial matches\n",
      "Document 385 has 7 full matches and 2 partial matches\n",
      "500/1001 documents scanned\n",
      "1000/1001 documents scanned\n"
     ]
    }
   ],
   "source": [
    "is_possible_duplicate = {}\n",
    "\n",
    "# Iterate through all documents\n",
    "for docid1 in range(len(messages)):\n",
    "\n",
    "     # Do not examine again a document that is a possible duplicate\n",
    "    if docid1 not in is_possible_duplicate:\n",
    "\n",
    "        # Counters for full and partial signature matches\n",
    "        count_sig_full_matches = 0\n",
    "        count_sig_partial_matches = 0\n",
    "\n",
    "        # Extract the signature of the doc1\n",
    "        signature1 = extract_signature(docid1)\n",
    "        if docid1 % 500 == 0:\n",
    "            print(\"%d/%d documents scanned\" % (docid1, len(messages)))\n",
    "\n",
    "        # Iterate through documents with docid larger than doc1\n",
    "        for docid2 in range(docid1+1, len(messages)):\n",
    "\n",
    "            # If this has not already been marked as duplicate of another document\n",
    "            if docid2 not in is_possible_duplicate:\n",
    "\n",
    "                # Extract signature of doc2\n",
    "                signature2 = extract_signature(docid2)\n",
    "\n",
    "                # We compute the similarity with the function from the beginning\n",
    "                similarity = jaccard_similarity(signature1, signature2)\n",
    "                \n",
    "                # Increase count_sig_full_matches and count_sig_partial_matches as needed\n",
    "                # Include docid2 in is_possible_duplicate if needed\n",
    "                if similarity == 1.0:\n",
    "                    count_sig_full_matches += 1\n",
    "                    is_possible_duplicate[docid2] = True\n",
    "                \n",
    "                elif (0.2 < similarity < 1.0):\n",
    "                    count_sig_partial_matches += 1\n",
    "                    is_possible_duplicate[docid2] = True\n",
    "                    \n",
    "                \n",
    "        # 0.5% of the number of documents\n",
    "        threshold = int(0.005 * len(messages)) \n",
    "        \n",
    "        # If the number of partial matches plus full matches exceeds a threshold\n",
    "        #  print the document doc1 and indicate how many matches of each type it has\n",
    "        if count_sig_full_matches + count_sig_partial_matches > threshold:\n",
    "            print(\"Document %d has %d full matches and %d partial matches\" % (docid1, count_sig_full_matches, count_sig_partial_matches))"
   ]
  },
  {
   "cell_type": "markdown",
   "metadata": {},
   "source": [
    "<font size=\"+1\" color=\"red\">Replace this cell with a brief commentary, based on the results above, about one tweet that has a substantial number of complete matches, but few partial matches. Include the full text of the original tweet. Comment on why you believe this tweet is not being changed much when copied or re-tweeted.</font>"
   ]
  },
  {
   "cell_type": "markdown",
   "metadata": {},
   "source": [
    "Original text: RT @emergenciescat: ⚠️ Es demana a la ciutadania limitar al màxim i, si es pot, EVITAR DESPLAÇAMENTS de cap de setmana. Tot el que sigui ma…\n",
    "\n",
    "This tweet gets retweeted without any changes because it’s an official message from a trusted source about public safety. People are less likely to modify it since it's important to keep the warning clear and urgent, and any edits might reduce its impact."
   ]
  },
  {
   "cell_type": "markdown",
   "metadata": {},
   "source": [
    "<font size=\"+1\" color=\"red\">Replace this cell with a brief commentary, based on the results above, about one tweet that has a substantial number of partial matches, but fewer complete matches. Include the full text of the original tweet and one near duplicate (that cannot be identical to the original tweet).</font>"
   ]
  },
  {
   "cell_type": "markdown",
   "metadata": {},
   "source": [
    "Original text: RT @emergenciescat: El comitè tècnic del Pla #PROCICAT  per evitar la propagació del #coronavirus ha proposat al Govern que ordeni el cessa…\n",
    "\n",
    "This tweet shows more partial matches because people might add their own thoughts or slightly edit it. The main message stays the same, but users are likely adjusting it to fit their personal style or make it shorter for easier reading."
   ]
  },
  {
   "cell_type": "markdown",
   "metadata": {},
   "source": [
    "<font size=\"+2\" color=\"#003300\">I hereby declare that, except for the code provided by the course instructors, all of my code, report, and figures were produced by myself.</font>"
   ]
  }
 ],
 "metadata": {
  "kernelspec": {
   "display_name": "Python 3 (ipykernel)",
   "language": "python",
   "name": "python3"
  },
  "language_info": {
   "codemirror_mode": {
    "name": "ipython",
    "version": 3
   },
   "file_extension": ".py",
   "mimetype": "text/x-python",
   "name": "python",
   "nbconvert_exporter": "python",
   "pygments_lexer": "ipython3",
   "version": "3.11.5"
  }
 },
 "nbformat": 4,
 "nbformat_minor": 2
}
