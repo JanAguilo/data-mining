{
 "cells": [
  {
   "cell_type": "markdown",
   "metadata": {},
   "source": [
    "# Practice Session 04: Basket analysis"
   ]
  },
  {
   "cell_type": "markdown",
   "metadata": {},
   "source": [
    "Author: <font color=\"blue\">Jan Aguiló Plana</font>\n",
    "\n",
    "E-mail: <font color=\"blue\">jan.aguilo01@estudiant.upf.edu</font>\n",
    "\n",
    "Date: <font color=\"blue\">16/10/2024</font>"
   ]
  },
  {
   "cell_type": "code",
   "execution_count": 1,
   "metadata": {},
   "outputs": [],
   "source": [
    "import numpy as np  \n",
    "import matplotlib.pyplot as plt  \n",
    "import pandas as pd  \n",
    "import csv\n",
    "import gzip\n",
    "\n",
    "from apyori import apriori"
   ]
  },
  {
   "cell_type": "markdown",
   "metadata": {},
   "source": [
    "# 1. Playing with apyori"
   ]
  },
  {
   "cell_type": "code",
   "execution_count": 2,
   "metadata": {},
   "outputs": [],
   "source": [
    "# LEAVE AS-IS\n",
    "\n",
    "def print_apyori_output (association_results, info=False, info_key=False):\n",
    "    for relation_record in association_results:\n",
    "        itemset = list(relation_record.items)\n",
    "        \n",
    "        # Consider only itemsets of two elements\n",
    "        if len(itemset) > 1: \n",
    "        \n",
    "            print(\"Rules involving itemset %s\" % itemset)\n",
    "            support = relation_record.support\n",
    "\n",
    "            for rules in relation_record.ordered_statistics:\n",
    "                antecedent = list(rules.items_base)\n",
    "                consequent = list(rules.items_add)\n",
    "                \n",
    "                if info_key:\n",
    "                    antecedent = [info.loc[x][info_key] for x in antecedent]\n",
    "                    consequent = [info.loc[x][info_key] for x in consequent]\n",
    "                \n",
    "                confidence = rules.confidence\n",
    "                lift = rules.lift\n",
    "\n",
    "                print(\"%s => %s (support=%.4f, confidence=%.2f, lift=%.2f)\" %\n",
    "                      (antecedent, consequent, support, confidence, lift))\n",
    "            print()"
   ]
  },
  {
   "cell_type": "markdown",
   "metadata": {},
   "source": [
    "<font size=\"+1\" color=\"red\">Replace this cell with your own example of transactions (at least 20 transactions). Execute the apriori algorithm, in which you should obtain at least <strong>two</strong> rules of the form ['A', 'B'] => ['C'], i.e., at least two rules having a 2-itemset in the antecedent and a 1-itemset in the consequent. Modify the transactions until you obtain such rules.</font>"
   ]
  },
  {
   "cell_type": "code",
   "execution_count": 3,
   "metadata": {
    "scrolled": true
   },
   "outputs": [
    {
     "name": "stdout",
     "output_type": "stream",
     "text": [
      "Rules involving itemset ['Wealthsimple', 'Fidelity']\n",
      "['Wealthsimple'] => ['Fidelity'] (support=0.1000, confidence=1.00, lift=2.00)\n",
      "\n",
      "Rules involving itemset ['Bloomberg', 'Yahoo Finance', 'eToro']\n",
      "['Bloomberg', 'eToro'] => ['Yahoo Finance'] (support=0.1000, confidence=1.00, lift=2.86)\n",
      "\n",
      "Rules involving itemset ['Wealthfront', 'Yahoo Finance', 'eToro']\n",
      "['Wealthfront', 'eToro'] => ['Yahoo Finance'] (support=0.1000, confidence=1.00, lift=2.86)\n",
      "\n"
     ]
    }
   ],
   "source": [
    "# I chose transactions that have to do with the market: some of the apps are trading apps that are used to invest money in,\n",
    "# some of them are news apps specifically for the market, and some others are just news apps.\n",
    "# In this way, what I expect is to have as antecedent a news app and as consequent a trading app (and/or vice versa).\n",
    "# This is because in order to trade correctly, one has to read the news to know how the world changes can affect the market.\n",
    "\n",
    "transactions = [\n",
    "    ['eToro', 'Yahoo Finance', 'Bloomberg'],\n",
    "    ['eToro', 'Yahoo Finance', 'Fidelity'],\n",
    "    ['Yahoo Finance', 'Bloomberg', 'Fidelity'],\n",
    "    ['eToro', 'Yahoo Finance', 'Wealthfront', 'Bloomberg'],\n",
    "    ['Investing.com', 'Yahoo Finance', 'Fidelity'],\n",
    "    ['eToro', 'Yahoo Finance', 'Fidelity', 'Wealthfront'],\n",
    "    ['eToro', 'Fidelity'],\n",
    "    ['TradingView', 'Robinhood'],\n",
    "    ['Robinhood', 'Wealthfront', 'Fidelity'],\n",
    "    ['Robinhood', 'Wealthsimple', 'Fidelity'],\n",
    "    ['Wealthsimple', 'Wealthfront', 'Fidelity'],\n",
    "    ['Seeking Alpha', 'Bloomberg'],\n",
    "    ['Investing.com', 'Wealthfront', 'Fidelity'],\n",
    "    ['Wealthfront', 'Robinhood'],\n",
    "    ['Investing.com', 'Wealthfront', 'TradingView'],\n",
    "    ['Investing.com', 'TradingView'],\n",
    "    ['TradingView', 'Robinhood'],\n",
    "    ['Yahoo Finance', 'Wealthfront'], \n",
    "    ['eToro', 'Investing.com'], \n",
    "    ['Fidelity', 'Wealthfront']  \n",
    "]\n",
    "\n",
    "# Total of transactions: 20\n",
    "\n",
    "\n",
    "results = list(apriori(transactions, min_support=0.1, min_confidence=0.9, min_lift=1.0))\n",
    "print_apyori_output(results)"
   ]
  },
  {
   "cell_type": "markdown",
   "metadata": {},
   "source": [
    "<font size=\"+1\" color=\"red\">Replace this cell with a markdown cell containing (1) a printout of the rules you have obtained, and (2) for each of those rules, indicate clearly how the support, confidence, and lift is calculated. Do not merely repeat the formula: indicate how each number is computed based on the transactions you provided, as if you were trying to verify that the numbers are correct.</font>"
   ]
  },
  {
   "cell_type": "markdown",
   "metadata": {},
   "source": [
    "(1)\n",
    "RULE 1\n",
    "Rules involving itemset ['Fidelity', 'Wealthsimple']\n",
    "['Wealthsimple'] => ['Fidelity'] (support=0.1000, confidence=1.00, lift=2.00)\n",
    "\n",
    "RULE 2\n",
    "Rules involving itemset ['Yahoo Finance', 'Bloomberg', 'eToro']\n",
    "['eToro', 'Bloomberg'] => ['Yahoo Finance'] (support=0.1000, confidence=1.00, lift=2.86)\n",
    "\n",
    "RULE 3\n",
    "Rules involving itemset ['Yahoo Finance', 'Wealthfront', 'eToro']\n",
    "['eToro', 'Wealthfront'] => ['Yahoo Finance'] (support=0.1000, confidence=1.00, lift=2.86)\n",
    "\n",
    "\n",
    "(2)\n",
    "\n",
    "RULE 1\n",
    "The combination ['Wealthsimple', 'Fidelity'] appears in 2 transactions.\n",
    "Total transactions = 20.\n",
    "Support = 2/20 = 0.1\n",
    "Transactions containing ['Wealthsimple'] = 2\n",
    "Confidence = 2/2 = 1\n",
    "Support of 'Fidelity' = 10/20 = 0.5 (It appears in 10 transactions from the total of 20)\n",
    "Lift = 1 / 0.5 = 2\n",
    "\n",
    "RULE 2\n",
    "The combination ['eToro', 'Bloomberg', 'Yahoo Finance'] appears in 2 transactions.\n",
    "Total transactions = 20.\n",
    "Support = 2/20 = 0.1\n",
    "Transactions containing ['eToro', 'Bloomberg'] = 2\n",
    "Confidence = 2/2 = 1\n",
    "Support of 'Yahoo Finance' = 7/20 = 0.35 (It appears in 7 transactions from the total of 20)\n",
    "Lift = 1 / 0.35 = 2.86\n",
    "\n",
    "RULE 3\n",
    "The combination ['eToro', 'Wealthfront', 'Yahoo Finance'] appears in 2 transactions.\n",
    "Total transactions = 20.\n",
    "Support = 2/20 = 0.1\n",
    "Transactions containing ['eToro', 'Wealthfront'] = 2\n",
    "Confidence = 2/2 = 1\n",
    "Support of 'Yahoo Finance' = 7/20 = 0.35\n",
    "Lift = 1 / 0.35 = 2.86"
   ]
  },
  {
   "cell_type": "markdown",
   "metadata": {},
   "source": [
    "# 2. Load and prepare the shopping baskets"
   ]
  },
  {
   "cell_type": "code",
   "execution_count": 4,
   "metadata": {},
   "outputs": [
    {
     "data": {
      "text/html": [
       "<div>\n",
       "<style scoped>\n",
       "    .dataframe tbody tr th:only-of-type {\n",
       "        vertical-align: middle;\n",
       "    }\n",
       "\n",
       "    .dataframe tbody tr th {\n",
       "        vertical-align: top;\n",
       "    }\n",
       "\n",
       "    .dataframe thead th {\n",
       "        text-align: right;\n",
       "    }\n",
       "</style>\n",
       "<table border=\"1\" class=\"dataframe\">\n",
       "  <thead>\n",
       "    <tr style=\"text-align: right;\">\n",
       "      <th></th>\n",
       "      <th>product_name</th>\n",
       "      <th>department_id</th>\n",
       "    </tr>\n",
       "    <tr>\n",
       "      <th>product_id</th>\n",
       "      <th></th>\n",
       "      <th></th>\n",
       "    </tr>\n",
       "  </thead>\n",
       "  <tbody>\n",
       "    <tr>\n",
       "      <th>1</th>\n",
       "      <td>Chocolate Sandwich Cookies</td>\n",
       "      <td>19</td>\n",
       "    </tr>\n",
       "    <tr>\n",
       "      <th>2</th>\n",
       "      <td>All-Seasons Salt</td>\n",
       "      <td>13</td>\n",
       "    </tr>\n",
       "    <tr>\n",
       "      <th>3</th>\n",
       "      <td>Robust Golden Unsweetened Oolong Tea</td>\n",
       "      <td>7</td>\n",
       "    </tr>\n",
       "    <tr>\n",
       "      <th>4</th>\n",
       "      <td>Smart Ones Classic Favorites Mini Rigatoni Wit...</td>\n",
       "      <td>1</td>\n",
       "    </tr>\n",
       "    <tr>\n",
       "      <th>5</th>\n",
       "      <td>Green Chile Anytime Sauce</td>\n",
       "      <td>13</td>\n",
       "    </tr>\n",
       "    <tr>\n",
       "      <th>...</th>\n",
       "      <td>...</td>\n",
       "      <td>...</td>\n",
       "    </tr>\n",
       "    <tr>\n",
       "      <th>96</th>\n",
       "      <td>Sprinklez Confetti Fun Organic Toppings</td>\n",
       "      <td>13</td>\n",
       "    </tr>\n",
       "    <tr>\n",
       "      <th>97</th>\n",
       "      <td>Organic Chamomile Lemon Tea</td>\n",
       "      <td>7</td>\n",
       "    </tr>\n",
       "    <tr>\n",
       "      <th>98</th>\n",
       "      <td>2% Yellow American Cheese</td>\n",
       "      <td>16</td>\n",
       "    </tr>\n",
       "    <tr>\n",
       "      <th>99</th>\n",
       "      <td>Local Living Butter Lettuce</td>\n",
       "      <td>4</td>\n",
       "    </tr>\n",
       "    <tr>\n",
       "      <th>100</th>\n",
       "      <td>Peanut Butter &amp; Strawberry Jam Sandwich</td>\n",
       "      <td>1</td>\n",
       "    </tr>\n",
       "  </tbody>\n",
       "</table>\n",
       "<p>100 rows × 2 columns</p>\n",
       "</div>"
      ],
      "text/plain": [
       "                                                 product_name  department_id\n",
       "product_id                                                                  \n",
       "1                                  Chocolate Sandwich Cookies             19\n",
       "2                                            All-Seasons Salt             13\n",
       "3                        Robust Golden Unsweetened Oolong Tea              7\n",
       "4           Smart Ones Classic Favorites Mini Rigatoni Wit...              1\n",
       "5                                   Green Chile Anytime Sauce             13\n",
       "...                                                       ...            ...\n",
       "96                    Sprinklez Confetti Fun Organic Toppings             13\n",
       "97                                Organic Chamomile Lemon Tea              7\n",
       "98                                  2% Yellow American Cheese             16\n",
       "99                                Local Living Butter Lettuce              4\n",
       "100                   Peanut Butter & Strawberry Jam Sandwich              1\n",
       "\n",
       "[100 rows x 2 columns]"
      ]
     },
     "execution_count": 4,
     "metadata": {},
     "output_type": "execute_result"
    }
   ],
   "source": [
    "# LEAVE AS-IS\n",
    "\n",
    "# File names\n",
    "INPUT_PRODUCTS = \"data/instacart/instacart-products.csv\"\n",
    "INPUT_TRANSACTIONS = \"data/instacart/instacart-transactions.csv.gz\"\n",
    "\n",
    "# Read into a dataframe\n",
    "products = pd.read_csv(INPUT_PRODUCTS, delimiter=\",\")\n",
    "\n",
    "# Set product_id as index, and drop column aisle_id\n",
    "products = products.set_index('product_id').drop(columns=['aisle_id'])\n",
    "\n",
    "products.head(100)"
   ]
  },
  {
   "cell_type": "markdown",
   "metadata": {},
   "source": [
    "## 2.1. Select by department"
   ]
  },
  {
   "cell_type": "code",
   "execution_count": 5,
   "metadata": {},
   "outputs": [],
   "source": [
    "# LEAVE AS-IS\n",
    "\n",
    "DEPT_BAKERY = 3\n",
    "DEPT_VEGGIES = 4\n",
    "DEPT_ALCOHOL = 5\n",
    "DEPT_WORLD = 6\n",
    "DEPT_DRINKS = 7\n",
    "DEPT_PETS = 8\n",
    "DEPT_PHARMACY = 11\n",
    "DEPT_CLEANING = 17\n",
    "DEPT_BABIES = 18"
   ]
  },
  {
   "cell_type": "markdown",
   "metadata": {},
   "source": [
    "<font size=\"+1\" color=\"red\">Replace this cell with your code for *select_from_departments*.</font>"
   ]
  },
  {
   "cell_type": "code",
   "execution_count": 6,
   "metadata": {},
   "outputs": [],
   "source": [
    "def select_from_departments(products, product_ids, department_ids):\n",
    "    selected_products = []\n",
    "    print('TEST CASE:')\n",
    "    print(product_ids)\n",
    "    \n",
    "    # We iterate through all the products to print them as input\n",
    "    print('\\nINPUT PRODUCTS: ')\n",
    "    for product_id in product_ids:\n",
    "        print(f'{product_id} {products.loc[product_id].product_name} (dept {products.loc[product_id].department_id})')\n",
    "    \n",
    "    # We iterate through all the products and select the department_id\n",
    "    print('\\nSELECTED PRODUCTS: ')\n",
    "    for product_id in product_ids:\n",
    "        department_id = products.loc[product_id].department_id\n",
    "       \n",
    "        # Then if the id is in the list of department_ids we add it to the selected products list\n",
    "        if department_id in department_ids:\n",
    "            print(f'{product_id} {products.loc[product_id].product_name} (dept {department_id})')\n",
    "            selected_products.append(product_id)\n",
    "    \n",
    "    return selected_products   "
   ]
  },
  {
   "cell_type": "markdown",
   "metadata": {},
   "source": [
    "<font size=\"+1\" color=\"red\">Replace this cell with code to test your function with three different test cases. Each test case is a list of items and a list of 1, 2, or 3 departments.</font>"
   ]
  },
  {
   "cell_type": "code",
   "execution_count": 7,
   "metadata": {},
   "outputs": [
    {
     "name": "stdout",
     "output_type": "stream",
     "text": [
      "TEST CASE:\n",
      "[22, 26, 45, 54, 83, 57, 71, 111, 112]\n",
      "\n",
      "INPUT PRODUCTS: \n",
      "22 Fresh Breath Oral Rinse Mild Mint (dept 11)\n",
      "26 Fancy Feast Trout Feast Flaked Wet Cat Food (dept 8)\n",
      "45 European Cucumber (dept 4)\n",
      "54 24/7 Performance Cat Litter (dept 8)\n",
      "83 100% Whole Wheat Pita Bread (dept 3)\n",
      "57 Flat Toothpicks (dept 17)\n",
      "71 Ultra 7 Inch Polypropylene Traditional Plates (dept 17)\n",
      "111 Fabric Softener, Geranium Scent (dept 17)\n",
      "112 Hot Tomatillo Salsa (dept 13)\n",
      "\n",
      "SELECTED PRODUCTS: \n",
      "83 100% Whole Wheat Pita Bread (dept 3)\n",
      "57 Flat Toothpicks (dept 17)\n",
      "71 Ultra 7 Inch Polypropylene Traditional Plates (dept 17)\n",
      "111 Fabric Softener, Geranium Scent (dept 17)\n"
     ]
    },
    {
     "data": {
      "text/plain": [
       "[83, 57, 71, 111]"
      ]
     },
     "execution_count": 7,
     "metadata": {},
     "output_type": "execute_result"
    }
   ],
   "source": [
    "select_from_departments(products, [22, 26, 45, 54, 83, 57, 71, 111, 112], [DEPT_BAKERY,DEPT_CLEANING])"
   ]
  },
  {
   "cell_type": "code",
   "execution_count": 8,
   "metadata": {},
   "outputs": [
    {
     "name": "stdout",
     "output_type": "stream",
     "text": [
      "TEST CASE:\n",
      "[11, 59, 873, 879, 882, 97, 35000, 77, 725, 40000, 10, 3, 4, 6]\n",
      "\n",
      "INPUT PRODUCTS: \n",
      "11 Peach Mango Juice (dept 7)\n",
      "59 Medium Taqueria Style Chipotle Salsa (dept 19)\n",
      "873 Graduates Lil' Meals Spaghetti Rings In Meat Sauce (dept 18)\n",
      "879 Baby Dry Diapers Size 4 (dept 18)\n",
      "882 Fingerling Potato (dept 4)\n",
      "97 Organic Chamomile Lemon Tea (dept 7)\n",
      "35000 Apple Frank Organic Beef (dept 21)\n",
      "77 Coconut Chocolate Chip Energy Bar (dept 19)\n",
      "725 Ceylon Cinnamon (dept 13)\n",
      "40000 Select Starts Cranberry Almond Instant Oatmeal (dept 14)\n",
      "10 Sparkling Orange Juice & Prickly Pear Beverage (dept 7)\n",
      "3 Robust Golden Unsweetened Oolong Tea (dept 7)\n",
      "4 Smart Ones Classic Favorites Mini Rigatoni With Vodka Cream Sauce (dept 1)\n",
      "6 Dry Nose Oil (dept 11)\n",
      "\n",
      "SELECTED PRODUCTS: \n",
      "11 Peach Mango Juice (dept 7)\n",
      "873 Graduates Lil' Meals Spaghetti Rings In Meat Sauce (dept 18)\n",
      "879 Baby Dry Diapers Size 4 (dept 18)\n",
      "882 Fingerling Potato (dept 4)\n",
      "97 Organic Chamomile Lemon Tea (dept 7)\n",
      "10 Sparkling Orange Juice & Prickly Pear Beverage (dept 7)\n",
      "3 Robust Golden Unsweetened Oolong Tea (dept 7)\n"
     ]
    },
    {
     "data": {
      "text/plain": [
       "[11, 873, 879, 882, 97, 10, 3]"
      ]
     },
     "execution_count": 8,
     "metadata": {},
     "output_type": "execute_result"
    }
   ],
   "source": [
    "select_from_departments(products, [11, 59, 873, 879, 882, 97, 35000, 77, 725, 40000, 10,3,4,6], [DEPT_VEGGIES, DEPT_DRINKS, DEPT_BABIES])"
   ]
  },
  {
   "cell_type": "code",
   "execution_count": 9,
   "metadata": {},
   "outputs": [
    {
     "name": "stdout",
     "output_type": "stream",
     "text": [
      "TEST CASE:\n",
      "[876, 2345, 2352, 2527, 2534, 3074, 36834, 36875]\n",
      "\n",
      "INPUT PRODUCTS: \n",
      "876 Vitamin B6 100 mg (dept 11)\n",
      "2345 Raw Shea Butter Restorative Conditioner (dept 11)\n",
      "2352 Canine Cuisine with Lamb in Meaty Juices (dept 8)\n",
      "2527 ProActive Health Adult Hairball Care Dry Cat Food (dept 8)\n",
      "2534 PM Acetaminophen Caplets (dept 11)\n",
      "3074 Seafood Sensations Dry Cat Food (dept 8)\n",
      "36834 Bumpy Bristle Massage Brush (dept 11)\n",
      "36875 Chablis (dept 5)\n",
      "\n",
      "SELECTED PRODUCTS: \n",
      "876 Vitamin B6 100 mg (dept 11)\n",
      "2345 Raw Shea Butter Restorative Conditioner (dept 11)\n",
      "2352 Canine Cuisine with Lamb in Meaty Juices (dept 8)\n",
      "2527 ProActive Health Adult Hairball Care Dry Cat Food (dept 8)\n",
      "2534 PM Acetaminophen Caplets (dept 11)\n",
      "3074 Seafood Sensations Dry Cat Food (dept 8)\n",
      "36834 Bumpy Bristle Massage Brush (dept 11)\n",
      "36875 Chablis (dept 5)\n"
     ]
    },
    {
     "data": {
      "text/plain": [
       "[876, 2345, 2352, 2527, 2534, 3074, 36834, 36875]"
      ]
     },
     "execution_count": 9,
     "metadata": {},
     "output_type": "execute_result"
    }
   ],
   "source": [
    "select_from_departments(products, [876, 2345, 2352, 2527, 2534, 3074,36834,36875], [DEPT_ALCOHOL,DEPT_PETS,DEPT_PHARMACY])"
   ]
  },
  {
   "cell_type": "markdown",
   "metadata": {},
   "source": [
    "## 2.2. Read and filter transactions"
   ]
  },
  {
   "cell_type": "markdown",
   "metadata": {},
   "source": [
    "<font size=\"+1\" color=\"red\">Replace this cell with your code to read transactions, keeping only items in DEPT_PHARMACY. Remember to stop after storing 5000 of the transactions read.</font>"
   ]
  },
  {
   "cell_type": "code",
   "execution_count": 10,
   "metadata": {},
   "outputs": [
    {
     "name": "stdout",
     "output_type": "stream",
     "text": [
      "Transactions read: 1000, Transactions stored: 102\n",
      "Transactions read: 2000, Transactions stored: 219\n",
      "Transactions read: 3000, Transactions stored: 313\n",
      "Transactions read: 4000, Transactions stored: 422\n",
      "Transactions read: 5000, Transactions stored: 526\n",
      "Transactions read: 6000, Transactions stored: 619\n",
      "Transactions read: 7000, Transactions stored: 722\n",
      "Transactions read: 8000, Transactions stored: 810\n",
      "Transactions read: 9000, Transactions stored: 920\n",
      "Transactions read: 10000, Transactions stored: 1046\n",
      "Transactions read: 11000, Transactions stored: 1152\n",
      "Transactions read: 12000, Transactions stored: 1245\n",
      "Transactions read: 13000, Transactions stored: 1352\n",
      "Transactions read: 14000, Transactions stored: 1459\n",
      "Transactions read: 15000, Transactions stored: 1559\n",
      "Transactions read: 16000, Transactions stored: 1663\n",
      "Transactions read: 17000, Transactions stored: 1753\n",
      "Transactions read: 18000, Transactions stored: 1854\n",
      "Transactions read: 19000, Transactions stored: 1943\n",
      "Transactions read: 20000, Transactions stored: 2066\n",
      "Transactions read: 21000, Transactions stored: 2184\n",
      "Transactions read: 22000, Transactions stored: 2284\n",
      "Transactions read: 23000, Transactions stored: 2375\n",
      "Transactions read: 24000, Transactions stored: 2480\n",
      "Transactions read: 25000, Transactions stored: 2588\n",
      "Transactions read: 26000, Transactions stored: 2705\n",
      "Transactions read: 27000, Transactions stored: 2806\n",
      "Transactions read: 28000, Transactions stored: 2903\n",
      "Transactions read: 29000, Transactions stored: 2999\n",
      "Transactions read: 30000, Transactions stored: 3091\n",
      "Transactions read: 31000, Transactions stored: 3194\n",
      "Transactions read: 32000, Transactions stored: 3307\n",
      "Transactions read: 33000, Transactions stored: 3408\n",
      "Transactions read: 34000, Transactions stored: 3503\n",
      "Transactions read: 35000, Transactions stored: 3595\n",
      "Transactions read: 36000, Transactions stored: 3703\n",
      "Transactions read: 37000, Transactions stored: 3813\n",
      "Transactions read: 38000, Transactions stored: 3912\n",
      "Transactions read: 39000, Transactions stored: 4019\n",
      "Transactions read: 40000, Transactions stored: 4119\n",
      "Transactions read: 41000, Transactions stored: 4210\n",
      "Transactions read: 42000, Transactions stored: 4310\n",
      "Transactions read: 43000, Transactions stored: 4419\n",
      "Transactions read: 44000, Transactions stored: 4524\n",
      "Transactions read: 45000, Transactions stored: 4633\n",
      "Transactions read: 46000, Transactions stored: 4731\n",
      "Transactions read: 47000, Transactions stored: 4822\n",
      "Transactions read: 48000, Transactions stored: 4926\n",
      "Total transactions read: 48881\n"
     ]
    }
   ],
   "source": [
    "def extract_transaction_from_department(filename, departments):\n",
    "    # Open a compressed file\n",
    "    with gzip.open(filename, \"rt\") as inputfile:\n",
    "\n",
    "        # Create a CSV reader\n",
    "        reader = csv.reader(inputfile, delimiter=\",\")\n",
    "\n",
    "        transactions = []\n",
    "        \n",
    "        # We will use these variables to know the number of transactions read and stored are there at every moment\n",
    "        read = stored = 0\n",
    "\n",
    "        # Iterate through the CSV file\n",
    "        for row in reader:\n",
    "\n",
    "            # Convert to integers\n",
    "            items = [int(x) for x in row]\n",
    "            \n",
    "            #Iterate through the items and see if any belongs to the corresponding department\n",
    "            new_items = [item for item in items if products.loc[item].department_id in departments]\n",
    "            read+=1\n",
    "\n",
    "            if new_items:\n",
    "                transactions.append(new_items)\n",
    "                stored+=1\n",
    "            \n",
    "            # Print the stored transactions every 1000 read\n",
    "            if read % 1000 == 0:\n",
    "                print(f\"Transactions read: {read}, Transactions stored: {stored}\")\n",
    "            \n",
    "            # Print total transactions and stop when it reaches 5000\n",
    "            if stored >= 5000:\n",
    "                print(f'Total transactions read: {read}')\n",
    "                break\n",
    "        return transactions\n",
    "    \n",
    "transactions = extract_transaction_from_department(INPUT_TRANSACTIONS, [DEPT_PHARMACY])"
   ]
  },
  {
   "cell_type": "markdown",
   "metadata": {},
   "source": [
    "## 2.3. Extract association rules and comment on them"
   ]
  },
  {
   "cell_type": "markdown",
   "metadata": {},
   "source": [
    "<font size=\"+1\" color=\"red\">Replace this cell with your code to extract association rules from the read transactions.</font>"
   ]
  },
  {
   "cell_type": "code",
   "execution_count": 11,
   "metadata": {},
   "outputs": [
    {
     "name": "stdout",
     "output_type": "stream",
     "text": [
      "Rules involving itemset [23425, 5019]\n",
      "['Nourish & Moisturize Shampoo'] => ['Nourish+ Moisturize Conditioner'] (support=0.0006, confidence=1.00, lift=1250.00)\n",
      "['Nourish+ Moisturize Conditioner'] => ['Nourish & Moisturize Shampoo'] (support=0.0006, confidence=0.75, lift=1250.00)\n",
      "\n",
      "Rules involving itemset [11007, 5663]\n",
      "['Chocolate Energy Supplement'] => ['Chocolate Calming Supplement'] (support=0.0006, confidence=1.00, lift=1250.00)\n",
      "['Chocolate Calming Supplement'] => ['Chocolate Energy Supplement'] (support=0.0006, confidence=0.75, lift=1250.00)\n",
      "\n",
      "Rules involving itemset [42563, 10781]\n",
      "['Coconut Milk Nourishing Shampoo'] => ['Coconut Milk Nourishing Conditioner'] (support=0.0006, confidence=0.75, lift=625.00)\n",
      "\n",
      "Rules involving itemset [35224, 12246]\n",
      "['Drink It Up Coconut Milk Natural Hawaiian Shampoo'] => ['Drink It Up Coconut Milk Conditioner'] (support=0.0006, confidence=0.75, lift=340.91)\n",
      "\n",
      "Rules involving itemset [16122, 44138]\n",
      "['Plant-Based Vanilla Chai Flavor Nutritional Shake Drink Mix'] => ['All In One Coconut Almond Packet'] (support=0.0006, confidence=0.75, lift=625.00)\n",
      "\n"
     ]
    }
   ],
   "source": [
    "results1 = list(apriori(transactions, min_support=0.0005, min_confidence=0.749, min_lift=1.0))\n",
    "print_apyori_output(results1, products, 'product_name')"
   ]
  },
  {
   "cell_type": "markdown",
   "metadata": {},
   "source": [
    "<font size=\"+1\" color=\"red\">Replace this cell with a brief commentary on what you would recommend to the shopping app considering the extracted association rules.</font>"
   ]
  },
  {
   "cell_type": "markdown",
   "metadata": {},
   "source": [
    "The extracted association rules highlight interesting relationships among specific products, such as the Nourish & Moisturize Shampoo and Conditioner, which suggests that customers who buy one are likely to purchase the other. This indicates that the app should recommend the conditioner when the shampoo is added to the cart and viceversa. \n",
    "\n",
    "Similarly, the association between Chocolate Energy Supplement and Chocolate Calming Supplement implies that customers that buy the energy suplement will also buy the calming one. Therefore, there is an opportunity for the app to recommend the calming supplement when the energy one is added to the cart.\n",
    "\n",
    "For the other rules we would recommend the same, that the element in the consequent should be recommended to the cart when the element in the antecedent is added to the cart. "
   ]
  },
  {
   "cell_type": "markdown",
   "metadata": {},
   "source": [
    "## 2.4. Extract association rules and comment on them (other departments)\n"
   ]
  },
  {
   "cell_type": "markdown",
   "metadata": {},
   "source": [
    "<font size=\"+1\" color=\"red\">Replace this cell with code to select a different set of departments (at least two, not DEPT_PHARMACY) and extract transactions again. Avoid replicating code when possible.</font>"
   ]
  },
  {
   "cell_type": "code",
   "execution_count": 12,
   "metadata": {},
   "outputs": [
    {
     "name": "stdout",
     "output_type": "stream",
     "text": [
      "Transactions read: 1000, Transactions stored: 383\n",
      "Transactions read: 2000, Transactions stored: 777\n",
      "Transactions read: 3000, Transactions stored: 1201\n",
      "Transactions read: 4000, Transactions stored: 1584\n",
      "Transactions read: 5000, Transactions stored: 1990\n",
      "Transactions read: 6000, Transactions stored: 2377\n",
      "Transactions read: 7000, Transactions stored: 2779\n",
      "Transactions read: 8000, Transactions stored: 3166\n",
      "Transactions read: 9000, Transactions stored: 3578\n",
      "Transactions read: 10000, Transactions stored: 3974\n",
      "Transactions read: 11000, Transactions stored: 4328\n",
      "Transactions read: 12000, Transactions stored: 4710\n",
      "Total transactions read: 12736\n",
      "Rules involving itemset [46184, 24533]\n",
      "['Pre-Moistened Multi-Surface Everyday Wipes'] => ['Original Pre-Moistened Wipes'] (support=0.0006, confidence=0.75, lift=1250.00)\n",
      "['Original Pre-Moistened Wipes'] => ['Pre-Moistened Multi-Surface Everyday Wipes'] (support=0.0006, confidence=1.00, lift=1250.00)\n",
      "\n"
     ]
    }
   ],
   "source": [
    "transactions_new = extract_transaction_from_department(INPUT_TRANSACTIONS, [DEPT_ALCOHOL,DEPT_BAKERY,DEPT_CLEANING])\n",
    "\n",
    "results2 = list(apriori(transactions_new, min_support=0.0005, min_confidence=0.749, min_lift=1.0))\n",
    "print_apyori_output(results2, products, 'product_name')"
   ]
  },
  {
   "cell_type": "markdown",
   "metadata": {},
   "source": [
    "<font size=\"+1\" color=\"red\">Replace this cell with your commentary on the obtained rules.</font>"
   ]
  },
  {
   "cell_type": "markdown",
   "metadata": {},
   "source": [
    "For the rules involving Pre-Moistened Multi-Surface Everyday Wipes and Original Pre-Moistened Wipes, we observe the same pattern as before. Customers purchasing the pre-moistened wipe are going to buy the other as well, since they have a confidence of 1.0. Therefore, it would be beneficial for the app to recommend the Original Pre-Moistened Wipes when the Pre-Moistened Multi-Surface Everyday Wipes are added to the cart, and vice versa. "
   ]
  },
  {
   "cell_type": "markdown",
   "metadata": {},
   "source": [
    "<font size=\"+2\" color=\"#003300\">I hereby declare that, except for the code provided by the course instructors, all of my code, report, and figures were produced by myself.</font>"
   ]
  }
 ],
 "metadata": {
  "kernelspec": {
   "display_name": "Python 3 (ipykernel)",
   "language": "python",
   "name": "python3"
  },
  "language_info": {
   "codemirror_mode": {
    "name": "ipython",
    "version": 3
   },
   "file_extension": ".py",
   "mimetype": "text/x-python",
   "name": "python",
   "nbconvert_exporter": "python",
   "pygments_lexer": "ipython3",
   "version": "3.11.5"
  }
 },
 "nbformat": 4,
 "nbformat_minor": 2
}
